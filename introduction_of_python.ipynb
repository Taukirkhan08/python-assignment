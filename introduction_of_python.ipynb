{
  "nbformat": 4,
  "nbformat_minor": 0,
  "metadata": {
    "colab": {
      "provenance": [],
      "authorship_tag": "ABX9TyM95KaAhp6w/9+LeRfstQW1",
      "include_colab_link": true
    },
    "kernelspec": {
      "name": "python3",
      "display_name": "Python 3"
    },
    "language_info": {
      "name": "python"
    }
  },
  "cells": [
    {
      "cell_type": "markdown",
      "metadata": {
        "id": "view-in-github",
        "colab_type": "text"
      },
      "source": [
        "<a href=\"https://colab.research.google.com/github/Taukirkhan08/python-assignment/blob/main/introduction_of_python.ipynb\" target=\"_parent\"><img src=\"https://colab.research.google.com/assets/colab-badge.svg\" alt=\"Open In Colab\"/></a>"
      ]
    },
    {
      "cell_type": "markdown",
      "source": [
        "1. What are the types of Applications?\n",
        "\n",
        "ans. There are many types of applications, including:\n",
        "\n",
        "Web applications: These run in a web browser.\n",
        "Mobile applications: These are designed for smartphones and tablets.\n",
        "Desktop applications: These run on a desktop operating system.\n",
        "Command-line applications: These are text-based applications used in a terminal.\n",
        "Backend applications: These run on servers and provide functionality for other applications.\n"
      ],
      "metadata": {
        "id": "qkvQF1w5M-DW"
      }
    },
    {
      "cell_type": "markdown",
      "source": [
        "2. What is programing?\n",
        "\n",
        "ans. Programming is the process of creating instructions for a computer to follow. These instructions are written in a programming language, such as Python."
      ],
      "metadata": {
        "id": "GzPumjxFNeNB"
      }
    },
    {
      "cell_type": "markdown",
      "source": [
        "3. What is Python?\n",
        "\n",
        "ans. Python is an interpreted, object-oriented, high-level programming\n",
        "language with dynamic semantics."
      ],
      "metadata": {
        "id": "2y_lULFePOVC"
      }
    },
    {
      "cell_type": "markdown",
      "source": [
        "4. Write a Python program to check if a number is positive, negative or\n",
        "zero."
      ],
      "metadata": {
        "id": "UGQ48kxPPORl"
      }
    },
    {
      "cell_type": "code",
      "source": [
        "\n",
        "num = float(input(\"Enter a number: \"))\n",
        "if num > 0:\n",
        "   print(\"Positive number\")\n",
        "elif num == 0:\n",
        "   print(\"Zero\")\n",
        "else:\n",
        "   print(\"Negative number\")\n"
      ],
      "metadata": {
        "colab": {
          "base_uri": "https://localhost:8080/"
        },
        "id": "5CaWCu9fPe1O",
        "outputId": "55f02cc9-b8e8-4106-f738-104a47e44a08"
      },
      "execution_count": null,
      "outputs": [
        {
          "output_type": "stream",
          "name": "stdout",
          "text": [
            "Enter a number: -5\n",
            "Negative number\n"
          ]
        }
      ]
    },
    {
      "cell_type": "markdown",
      "source": [
        "5. Write a Python program to get the Factorial number of given numbers."
      ],
      "metadata": {
        "id": "1DqD7c2vPOO4"
      }
    },
    {
      "cell_type": "code",
      "source": [
        "def factorial(n):\n",
        "    if n == 0:\n",
        "        return 1\n",
        "    else:\n",
        "        return n * factorial(n-1)\n",
        "n=int(input(\"Input a number to compute the factiorial : \"))\n",
        "print(factorial(n))"
      ],
      "metadata": {
        "colab": {
          "base_uri": "https://localhost:8080/"
        },
        "id": "66xZmEMIQd7Z",
        "outputId": "9b481bbf-8035-4d04-93de-03ad0ff25194"
      },
      "execution_count": null,
      "outputs": [
        {
          "output_type": "stream",
          "name": "stdout",
          "text": [
            "Input a number to compute the factiorial : 8\n",
            "40320\n"
          ]
        }
      ]
    },
    {
      "cell_type": "markdown",
      "source": [
        "6. Write a Python program to get the Fibonacci series of given range."
      ],
      "metadata": {
        "id": "O5Dx0PQLPOMs"
      }
    },
    {
      "cell_type": "code",
      "source": [],
      "metadata": {
        "id": "pA-wOLkXDvMk"
      },
      "execution_count": null,
      "outputs": []
    },
    {
      "cell_type": "markdown",
      "source": [
        "7. How memory is managed in Python?\n",
        "\n",
        "ans. Memory management in Python is handled automatically through a combination of a built-in garbage collector and a memory allocation system."
      ],
      "metadata": {
        "id": "ckI3WlfGPOKV"
      }
    },
    {
      "cell_type": "markdown",
      "source": [
        "8. What is the purpose continuing statement in python?\n",
        "\n",
        "ans. In Python, the continue statement is used to skip the rest of the current iteration in a loop (for or while) and proceed to the next iteration."
      ],
      "metadata": {
        "id": "nknywrrUPNJK"
      }
    },
    {
      "cell_type": "markdown",
      "source": [
        "9. Write python program that swap two number with temp variable\n",
        "and without temp variable."
      ],
      "metadata": {
        "id": "TbkI85uaUTpT"
      }
    },
    {
      "cell_type": "code",
      "source": [
        "x = 5\n",
        "y = 10\n",
        "temp = x\n",
        "x = y\n",
        "y = temp\n",
        "print('The value of x after swapping: {}'.format(x))\n",
        "print('The value of y after swapping: {}'.format(y))"
      ],
      "metadata": {
        "colab": {
          "base_uri": "https://localhost:8080/"
        },
        "id": "sUJ39IzvUiOp",
        "outputId": "fcbf1dbe-eb48-4522-b123-042a2ceb954f"
      },
      "execution_count": null,
      "outputs": [
        {
          "output_type": "stream",
          "name": "stdout",
          "text": [
            "The value of x after swapping: 10\n",
            "The value of y after swapping: 5\n"
          ]
        }
      ]
    },
    {
      "cell_type": "markdown",
      "source": [
        "10. Write a Python program to find whether a given number is even\n",
        "or odd, print out an appropriate message to the user."
      ],
      "metadata": {
        "id": "t8bpryENUq1b"
      }
    },
    {
      "cell_type": "code",
      "source": [
        "num = int(input(\"Enter a number: \"))\n",
        "if (num % 2) == 0:\n",
        "   print(\"{0} is Even\".format(num))\n",
        "else:\n",
        "   print(\"{0} is Odd\".format(num))"
      ],
      "metadata": {
        "colab": {
          "base_uri": "https://localhost:8080/"
        },
        "id": "JRGKM41hU8-T",
        "outputId": "9b282a50-5ae5-4a35-ea02-cdcb10d62725"
      },
      "execution_count": null,
      "outputs": [
        {
          "output_type": "stream",
          "name": "stdout",
          "text": [
            "Enter a number: 21\n",
            "21 is Odd\n"
          ]
        }
      ]
    },
    {
      "cell_type": "markdown",
      "source": [
        "11. Write a Python program to test whether a passed letter is a vowel\n",
        "or not."
      ],
      "metadata": {
        "id": "EyKN_FGLVH3a"
      }
    },
    {
      "cell_type": "code",
      "source": [
        "def is_vowel(char):\n",
        "    all_vowels = 'aeiou'\n",
        "    return char in all_vowels\n",
        "print(is_vowel('c'))\n",
        "print(is_vowel('e'))"
      ],
      "metadata": {
        "colab": {
          "base_uri": "https://localhost:8080/"
        },
        "id": "RP3o5bitVNj4",
        "outputId": "53f73f80-2d9a-4c76-9131-ce0db4a7c07e"
      },
      "execution_count": null,
      "outputs": [
        {
          "output_type": "stream",
          "name": "stdout",
          "text": [
            "False\n",
            "True\n"
          ]
        }
      ]
    },
    {
      "cell_type": "markdown",
      "source": [
        "12. Write a Python program to sum of three given integers. However, if\n",
        "two values are equal sum will be zero."
      ],
      "metadata": {
        "id": "s--lB0vWVipA"
      }
    },
    {
      "cell_type": "code",
      "source": [
        "\n",
        "a=int(input(\"Enter a number:\"))\n",
        "b=int(input(\"Enter a number:\"))\n",
        "c=int(input(\"Enter a number:\"))\n",
        "if a==b or b==c or c==a:\n",
        "    sum=0\n",
        "else:\n",
        "    sum=a+b+c\n",
        "print(sum)"
      ],
      "metadata": {
        "colab": {
          "base_uri": "https://localhost:8080/"
        },
        "id": "T2fk25GxVmhM",
        "outputId": "41e941e3-0555-4655-eb55-db6f8f35bdca"
      },
      "execution_count": null,
      "outputs": [
        {
          "output_type": "stream",
          "name": "stdout",
          "text": [
            "Enter a number:12\n",
            "Enter a number:55\n",
            "Enter a number:32\n",
            "99\n"
          ]
        }
      ]
    },
    {
      "cell_type": "markdown",
      "source": [
        "13. Write a Python program that will return true if the two given\n",
        "integer values are equal or their sum or difference is 5.\n"
      ],
      "metadata": {
        "id": "047j8E5qV_7e"
      }
    },
    {
      "cell_type": "code",
      "source": [
        "\n",
        "a=int(input(\"Enter a number:\"))\n",
        "b=int(input(\"Enter a number:\"))\n",
        "if a==b or a+b==5 or a-b==5:\n",
        "    print(\"True\")\n",
        "else:\n",
        "    print(\"False\")"
      ],
      "metadata": {
        "colab": {
          "base_uri": "https://localhost:8080/"
        },
        "id": "IRv6g1GyWGO0",
        "outputId": "a098c489-09fa-46b9-8383-cbf2371b8711"
      },
      "execution_count": null,
      "outputs": [
        {
          "output_type": "stream",
          "name": "stdout",
          "text": [
            "Enter a number:5\n",
            "Enter a number:5\n",
            "True\n"
          ]
        }
      ]
    },
    {
      "cell_type": "markdown",
      "source": [
        "14. Write a python program to sum of the first n positive integers.\n"
      ],
      "metadata": {
        "id": "kr5pybnpWnj0"
      }
    },
    {
      "cell_type": "code",
      "source": [
        "\n",
        "n = int(input(\"Input a number: \"))\n",
        "sum_num = (n * (n+1)) / 2\n",
        "print(\"Sum of the first\", n ,\"positive integers:\", sum_num)"
      ],
      "metadata": {
        "colab": {
          "base_uri": "https://localhost:8080/"
        },
        "id": "v5a7MaHEWtn2",
        "outputId": "36a7d7f0-882c-4a10-df3e-ce244d7a1641"
      },
      "execution_count": null,
      "outputs": [
        {
          "output_type": "stream",
          "name": "stdout",
          "text": [
            "Input a number: 5\n",
            "Sum of the first 5 positive integers: 15.0\n"
          ]
        }
      ]
    },
    {
      "cell_type": "markdown",
      "source": [
        "15.Write a Python program to calculate the length of a string."
      ],
      "metadata": {
        "id": "mQ02JPLXW597"
      }
    },
    {
      "cell_type": "code",
      "source": [
        "string=input(\"Enter a string: \")\n",
        "print(len(string))\n"
      ],
      "metadata": {
        "colab": {
          "base_uri": "https://localhost:8080/"
        },
        "id": "Jxg94vVCW_55",
        "outputId": "90727ffb-b767-46fe-892e-64b5c37f4c57"
      },
      "execution_count": null,
      "outputs": [
        {
          "output_type": "stream",
          "name": "stdout",
          "text": [
            "Enter a string: my name is khan\n",
            "15\n"
          ]
        }
      ]
    },
    {
      "cell_type": "markdown",
      "source": [
        "16.Write a Python program to count the number of characters\n",
        "(character frequency) in a string\n"
      ],
      "metadata": {
        "id": "6KW5O_BFXNzL"
      }
    },
    {
      "cell_type": "code",
      "source": [
        "\n",
        "from typing_extensions import Counter\n",
        "string=input(\"Enter a string: \")\n",
        "result=Counter(string)\n",
        "print(result)\n"
      ],
      "metadata": {
        "colab": {
          "base_uri": "https://localhost:8080/"
        },
        "id": "oFauy9ldXUlz",
        "outputId": "06b05efe-fd11-4547-e097-8350febead87"
      },
      "execution_count": null,
      "outputs": [
        {
          "output_type": "stream",
          "name": "stdout",
          "text": [
            "Enter a string: my name is khan\n",
            "Counter({' ': 3, 'm': 2, 'n': 2, 'a': 2, 'y': 1, 'e': 1, 'i': 1, 's': 1, 'k': 1, 'h': 1})\n"
          ]
        }
      ]
    },
    {
      "cell_type": "markdown",
      "source": [
        "17.What are negative indexes and why are they used?\n",
        "\n",
        "ans.Negative indexes in Python allow you to access elements in a sequence (like a list or a string) starting from the end."
      ],
      "metadata": {
        "id": "KGGykEnpYIFJ"
      }
    },
    {
      "cell_type": "markdown",
      "source": [
        "18.Write a Python program to count occurrences of a substring in a string.\n"
      ],
      "metadata": {
        "id": "K8n9Ou6TYwEo"
      }
    },
    {
      "cell_type": "code",
      "source": [
        "\n",
        "string = \"This is a test string.\"\n",
        "substring = \"This\"\n",
        "\n",
        "count = string.count(substring)\n",
        "print(\"The count is:\", count)"
      ],
      "metadata": {
        "colab": {
          "base_uri": "https://localhost:8080/"
        },
        "id": "F8J7mzEeYQZx",
        "outputId": "dd8995e3-72c4-4043-ea7e-27e60aa5d626"
      },
      "execution_count": null,
      "outputs": [
        {
          "output_type": "stream",
          "name": "stdout",
          "text": [
            "The count is: 1\n"
          ]
        }
      ]
    },
    {
      "cell_type": "markdown",
      "source": [
        "20. Write a Python program to get a single string from two given strings,\n",
        "separated by a space and swap the first two characters of each string."
      ],
      "metadata": {
        "id": "7PeTH3E2b3qX"
      }
    },
    {
      "cell_type": "code",
      "source": [
        "def swap_strings(str1, str2):\n",
        "  new_str1 = str2[:2] + str1[2:]\n",
        "  new_str2 = str1[:2] + str2[2:]\n",
        "  return new_str1 + \" \" + new_str2\n",
        "\n",
        "string1 = input(\"Enter the first string: \")\n",
        "string2 = input(\"Enter the second string: \")\n",
        "result = swap_strings(string1, string2)\n",
        "print(result)\n"
      ],
      "metadata": {
        "colab": {
          "base_uri": "https://localhost:8080/"
        },
        "id": "VWCl-OWFb5-b",
        "outputId": "e6f22791-8221-464c-bb02-b82e68fa3991"
      },
      "execution_count": null,
      "outputs": [
        {
          "output_type": "stream",
          "name": "stdout",
          "text": [
            "Enter the first string: tokirkhan\n",
            "Enter the second string: malek\n",
            "makirkhan tolek\n"
          ]
        }
      ]
    },
    {
      "cell_type": "markdown",
      "source": [
        "21.  Write a Python program to add 'in' at the end of a given string (length\n",
        "should be at least 3). If the given string already ends with 'ing' then\n",
        "add 'ly' instead if the string length of the given string is less than 3,\n",
        "leave it unchanged."
      ],
      "metadata": {
        "id": "NPMWW8S8cRNc"
      }
    },
    {
      "cell_type": "code",
      "source": [
        "\n",
        "string = input(\"Enter a string: \")\n",
        "if len(string) >= 3:\n",
        "    if string.endswith(\"ing\"):\n",
        "        string += \"ly\"\n",
        "    else:\n",
        "        string += \"ing\"\n",
        "print(string)\n"
      ],
      "metadata": {
        "colab": {
          "base_uri": "https://localhost:8080/"
        },
        "id": "EQ24to1sctlh",
        "outputId": "0ed356e1-065b-4b76-8957-ce2f8c670233"
      },
      "execution_count": null,
      "outputs": [
        {
          "output_type": "stream",
          "name": "stdout",
          "text": [
            "Enter a string: i am workking\n",
            "i am workkingly\n"
          ]
        }
      ]
    },
    {
      "cell_type": "markdown",
      "source": [
        "22.Write a Python function to reverses a string if its length is a multiple of 4."
      ],
      "metadata": {
        "id": "g5oii_e8dRpx"
      }
    },
    {
      "cell_type": "code",
      "source": [
        "\n",
        "string = input(\"Enter a string: \")\n",
        "if len(string) % 4 == 0:\n",
        "    print(string[::-1])\n",
        "else:\n",
        "    print(string)"
      ],
      "metadata": {
        "colab": {
          "base_uri": "https://localhost:8080/"
        },
        "id": "ZcP9CcMkdQnb",
        "outputId": "4d923d62-5a9a-4237-8e98-1db817a6d3a7"
      },
      "execution_count": null,
      "outputs": [
        {
          "output_type": "stream",
          "name": "stdout",
          "text": [
            "Enter a string: 123456\n",
            "123456\n"
          ]
        }
      ]
    },
    {
      "cell_type": "markdown",
      "source": [
        "23.Write a Python program to get a string made of the first 2 and the last\n",
        "2 chars from a given a string. If the string length is less than 2, return\n",
        "instead of the empty string."
      ],
      "metadata": {
        "id": "jZZDRU24eCgo"
      }
    },
    {
      "cell_type": "code",
      "source": [
        "\n",
        "string = input(\"Enter a string: \")\n",
        "if len(string) < 2:\n",
        "    print(string)\n",
        "else:\n",
        "    new_string = string[:2] + string[-2:]\n",
        "    print(new_string)"
      ],
      "metadata": {
        "colab": {
          "base_uri": "https://localhost:8080/"
        },
        "id": "gyhVZPmTeHyW",
        "outputId": "cdba5122-80b2-4dc3-947c-0a99bac805ec"
      },
      "execution_count": null,
      "outputs": [
        {
          "output_type": "stream",
          "name": "stdout",
          "text": [
            "Enter a string: i am ghost\n",
            "i st\n"
          ]
        }
      ]
    },
    {
      "cell_type": "markdown",
      "source": [
        "24.Write a Python function to insert a string in the middle of a string."
      ],
      "metadata": {
        "id": "HWnl4S7pekNS"
      }
    },
    {
      "cell_type": "code",
      "source": [
        "\n",
        "string = input(\"Enter a string: \")\n",
        "middle_index = len(string) // 2\n",
        "new_string = string[:middle_index] + \"Python\" + string[middle_index:]\n",
        "print(new_string)"
      ],
      "metadata": {
        "colab": {
          "base_uri": "https://localhost:8080/"
        },
        "id": "GIzOq1yEer5c",
        "outputId": "24443f2d-233a-4af2-abb5-5310e9aafe60"
      },
      "execution_count": null,
      "outputs": [
        {
          "output_type": "stream",
          "name": "stdout",
          "text": [
            "Enter a string: you are so smart\n",
            "you are Pythonso smart\n"
          ]
        }
      ]
    },
    {
      "cell_type": "markdown",
      "source": [
        "25.What is List? How will you reverse a list?\n",
        "\n",
        "ans.A list in Python is a versatile data structure used to store an ordered collection of items. These items can be of different data types, such as integers, floats, strings, or even other lists. Lists are mutable, meaning you can change their contents after they are created."
      ],
      "metadata": {
        "id": "le0mgEQgfDIb"
      }
    },
    {
      "cell_type": "markdown",
      "source": [
        "26.How will you remove last object from a list?\n",
        "\n",
        "ans.To remove the last object from a list in Python, you can use the pop() method or the del statement."
      ],
      "metadata": {
        "id": "2LzO0UhefgAN"
      }
    },
    {
      "cell_type": "markdown",
      "source": [
        "27.Suppose list1 is [2, 33, 222, 14, and 25], what is list1 [-\n",
        "1]?\n"
      ],
      "metadata": {
        "id": "q6_xLUiFf7G7"
      }
    },
    {
      "cell_type": "code",
      "source": [
        "\n",
        "list1 = [2, 33, 222, 14, 25]\n",
        "print(list1[-1])\n"
      ],
      "metadata": {
        "colab": {
          "base_uri": "https://localhost:8080/"
        },
        "id": "x5lwvNdEgTeQ",
        "outputId": "d0f62a4e-ff96-4e75-e515-707a8cc6922b"
      },
      "execution_count": null,
      "outputs": [
        {
          "output_type": "stream",
          "name": "stdout",
          "text": [
            "25\n"
          ]
        }
      ]
    },
    {
      "cell_type": "markdown",
      "source": [
        "28.Differentiate between append () and extend () methods?\n",
        "\n",
        "ans.append() adds a single element to the end of a list.\n",
        "extend() adds multiple elements from an iterable (like another list) to the end of a list."
      ],
      "metadata": {
        "id": "bOLvWuf7gqOP"
      }
    },
    {
      "cell_type": "markdown",
      "source": [
        "29.Write a Python function to get the largest number, smallest num\n",
        "and sum of all from a list."
      ],
      "metadata": {
        "id": "CRsJxA_GhBI_"
      }
    },
    {
      "cell_type": "code",
      "source": [
        "#Write a Python function to get the largest number, smallest num and sum of all from a list.\n",
        "\n",
        "num_list = [1, 2, 3, 4, 5]\n",
        "largest = max(num_list)\n",
        "smallest = min(num_list)\n",
        "total = sum(num_list)\n",
        "print(\"Largest number:\", largest)\n",
        "print(\"Smallest number:\", smallest)\n",
        "print(\"Sum of all numbers:\", total)"
      ],
      "metadata": {
        "colab": {
          "base_uri": "https://localhost:8080/"
        },
        "id": "YyhuZ4D8HMrI",
        "outputId": "7beb7585-bfbc-46c2-834e-e0cccd55514c"
      },
      "execution_count": null,
      "outputs": [
        {
          "output_type": "stream",
          "name": "stdout",
          "text": [
            "Largest number: 5\n",
            "Smallest number: 1\n",
            "Sum of all numbers: 15\n"
          ]
        }
      ]
    },
    {
      "cell_type": "markdown",
      "source": [
        "30.How will you compare two lists?\n",
        "\n",
        "ans.You can compare two lists in Python using the == operator. It checks if both lists have the same elements in the same order."
      ],
      "metadata": {
        "id": "v6hunofCh8IQ"
      }
    },
    {
      "cell_type": "markdown",
      "source": [
        "31. Write a Python program to count the number of strings where the string\n",
        "length is 2 or more and the first and last character are same from a given list of strings."
      ],
      "metadata": {
        "id": "ibWcGFFnHw29"
      }
    },
    {
      "cell_type": "code",
      "source": [
        "def match_words(words):\n",
        "  ctr = 0\n",
        "\n",
        "  for word in words:\n",
        "    if len(word) > 1 and word[0] == word[-1]:\n",
        "      ctr += 1\n",
        "  return ctr\n",
        "\n",
        "print(match_words(['abc', 'xyz', 'aba', '1221']))"
      ],
      "metadata": {
        "colab": {
          "base_uri": "https://localhost:8080/"
        },
        "id": "_MDvFk9eIdRF",
        "outputId": "dc2c3711-4d1c-4e93-f237-ca6cb078cd74"
      },
      "execution_count": null,
      "outputs": [
        {
          "output_type": "stream",
          "name": "stdout",
          "text": [
            "2\n"
          ]
        }
      ]
    },
    {
      "cell_type": "markdown",
      "source": [
        "32. Write a Python program to remove duplicates from a list"
      ],
      "metadata": {
        "id": "YAS-AHf9IlOe"
      }
    },
    {
      "cell_type": "code",
      "source": [
        "list=[1,2,3,4,5,6,7,8,9,9,8,7,6,5,4,3,2,1]\n",
        "newlist=(set(list))\n",
        "print(newlist)"
      ],
      "metadata": {
        "colab": {
          "base_uri": "https://localhost:8080/"
        },
        "id": "EGHC31TvIpns",
        "outputId": "16cdd442-f7b6-40a1-b102-1dd0825d98cd"
      },
      "execution_count": null,
      "outputs": [
        {
          "output_type": "stream",
          "name": "stdout",
          "text": [
            "{1, 2, 3, 4, 5, 6, 7, 8, 9}\n"
          ]
        }
      ]
    },
    {
      "cell_type": "markdown",
      "source": [
        "33.Write a Python program to check a list is empty or not."
      ],
      "metadata": {
        "id": "eRTokNngI7Vk"
      }
    },
    {
      "cell_type": "code",
      "source": [
        "\n",
        "my_list = []\n",
        "if not my_list:\n",
        "    print(\"The list is empty\")\n",
        "else:\n",
        "    print(\"The list is not empty\")"
      ],
      "metadata": {
        "colab": {
          "base_uri": "https://localhost:8080/"
        },
        "id": "A5f4YwU0JBwd",
        "outputId": "4110c8bd-acbb-4769-e2b8-9c7e5be49feb"
      },
      "execution_count": null,
      "outputs": [
        {
          "output_type": "stream",
          "name": "stdout",
          "text": [
            "The list is empty\n"
          ]
        }
      ]
    },
    {
      "cell_type": "markdown",
      "source": [
        "34. Write a Python function that takes two lists and returns true if they have at least one common member."
      ],
      "metadata": {
        "id": "vLYCsekOJQx3"
      }
    },
    {
      "cell_type": "code",
      "source": [
        "\n",
        "def common_member(list1, list2):\n",
        "    for item in list1:\n",
        "        if item in list2:\n",
        "            return True\n",
        "    return False\n",
        "\n",
        "list1 = [1, 2, 3, 4, 5]\n",
        "list2 = [5, 6, 7, 8, 9]\n",
        "result = common_member(list1, list2)\n",
        "print(result)"
      ],
      "metadata": {
        "colab": {
          "base_uri": "https://localhost:8080/"
        },
        "id": "zqsQM1JJJSE-",
        "outputId": "2f0f68bb-471d-415b-9172-188235ad95ad"
      },
      "execution_count": null,
      "outputs": [
        {
          "output_type": "stream",
          "name": "stdout",
          "text": [
            "True\n"
          ]
        }
      ]
    },
    {
      "cell_type": "markdown",
      "source": [
        "35.Write a Python program to generate and print a list of first and last 5 elements where the values are square of numbers between 1 and 30."
      ],
      "metadata": {
        "id": "C8d1rEGoJtFC"
      }
    },
    {
      "cell_type": "code",
      "source": [
        "\n",
        "def get_squared_list(start,end):\n",
        "  squares = [i**2 for i in range(start,end,+1)]\n",
        "  return squares[:5] + squares[-5:]\n",
        "\n",
        "result = get_squared_list(1,31)\n",
        "print(result)\n"
      ],
      "metadata": {
        "colab": {
          "base_uri": "https://localhost:8080/"
        },
        "id": "_vAIA02mJ_MG",
        "outputId": "82d3dc91-9fc9-421e-a68c-ef7a40687565"
      },
      "execution_count": null,
      "outputs": [
        {
          "output_type": "stream",
          "name": "stdout",
          "text": [
            "[1, 4, 9, 16, 25, 676, 729, 784, 841, 900]\n"
          ]
        }
      ]
    },
    {
      "cell_type": "markdown",
      "source": [
        "36. Write a Python function that takes a list and returns a new list with unique elements of the first list."
      ],
      "metadata": {
        "id": "mBICXMbxKvWm"
      }
    },
    {
      "cell_type": "code",
      "source": [
        "\n",
        "def unique_list(lst):\n",
        "  unique = []\n",
        "  for item in lst:\n",
        "    if item not in unique:\n",
        "      unique.append(item)\n",
        "  return unique\n",
        "\n",
        "result = unique_list([1,2,3,4,5,6,7,8,9,1,2,3,4,5,6,7,8,9])\n",
        "print(result)"
      ],
      "metadata": {
        "colab": {
          "base_uri": "https://localhost:8080/"
        },
        "id": "_mv34gyyKwW9",
        "outputId": "970b80c1-4b5a-44b1-aa2d-c6a523dfdb93"
      },
      "execution_count": null,
      "outputs": [
        {
          "output_type": "stream",
          "name": "stdout",
          "text": [
            "[1, 2, 3, 4, 5, 6, 7, 8, 9]\n"
          ]
        }
      ]
    },
    {
      "cell_type": "markdown",
      "source": [
        "37. Write a Python program to convert a list of characters into a string."
      ],
      "metadata": {
        "id": "9zD43L2RLWRp"
      }
    },
    {
      "cell_type": "code",
      "source": [
        "\n",
        "\n",
        "char_list = ['a', 'b', 'c', 'd', 'e']\n",
        "string = ''.join(char_list)\n",
        "print(string)"
      ],
      "metadata": {
        "colab": {
          "base_uri": "https://localhost:8080/"
        },
        "id": "ph0ia_d2LbND",
        "outputId": "b9f8fea6-9d6a-43f6-8988-3836ba935b4d"
      },
      "execution_count": null,
      "outputs": [
        {
          "output_type": "stream",
          "name": "stdout",
          "text": [
            "abcde\n"
          ]
        }
      ]
    },
    {
      "cell_type": "markdown",
      "source": [
        "38. Write a Python program to select an item randomly from a list."
      ],
      "metadata": {
        "id": "W2oc0SEiLo7F"
      }
    },
    {
      "cell_type": "code",
      "source": [
        "\n",
        "\n",
        "import random\n",
        "\n",
        "my_list = ['apple', 'banana', 'cherry', 'date', 'elderberry']\n",
        "random_item = random.choice(my_list)\n",
        "print(random_item)"
      ],
      "metadata": {
        "colab": {
          "base_uri": "https://localhost:8080/"
        },
        "id": "npH7otphLtVa",
        "outputId": "721812c9-4857-445a-871f-6931e425f2aa"
      },
      "execution_count": null,
      "outputs": [
        {
          "output_type": "stream",
          "name": "stdout",
          "text": [
            "date\n"
          ]
        }
      ]
    },
    {
      "cell_type": "markdown",
      "source": [
        "39. Write a Python program to find the second smallest number in a list."
      ],
      "metadata": {
        "id": "YbE_s4LDL5Tj"
      }
    },
    {
      "cell_type": "code",
      "source": [
        "\n",
        "\n",
        "my_list = [5, 2, 8, 1, 9, 3]\n",
        "my_list.sort()\n",
        "second_smallest = my_list[1]\n",
        "print(second_smallest)"
      ],
      "metadata": {
        "colab": {
          "base_uri": "https://localhost:8080/"
        },
        "id": "uWu5_pMML6wD",
        "outputId": "fe227004-9099-4856-fa82-399d2ba3f11f"
      },
      "execution_count": null,
      "outputs": [
        {
          "output_type": "stream",
          "name": "stdout",
          "text": [
            "2\n"
          ]
        }
      ]
    },
    {
      "cell_type": "markdown",
      "source": [
        "40. Write a Python program to get unique values from a list."
      ],
      "metadata": {
        "id": "rE-aBzBPMG57"
      }
    },
    {
      "cell_type": "code",
      "source": [
        "list1=[1,2,3,4,5,6,7,8,9,9,8,7,6,5,4,3,2,1]\n",
        "unique_value=(set(list1))\n",
        "print(unique_value)"
      ],
      "metadata": {
        "colab": {
          "base_uri": "https://localhost:8080/"
        },
        "id": "Dv2C_ZnFMPQD",
        "outputId": "bac13e57-e00d-4949-dfa9-58f4c5f46138"
      },
      "execution_count": null,
      "outputs": [
        {
          "output_type": "stream",
          "name": "stdout",
          "text": [
            "{1, 2, 3, 4, 5, 6, 7, 8, 9}\n"
          ]
        }
      ]
    },
    {
      "cell_type": "markdown",
      "source": [
        "41. Write a Python program to check whether a list contains a sub list."
      ],
      "metadata": {
        "id": "qXsksCAgMjdd"
      }
    },
    {
      "cell_type": "markdown",
      "source": [
        "42. Write a Python program to split a list into different variables"
      ],
      "metadata": {
        "id": "NsO6e1LRNgZ2"
      }
    },
    {
      "cell_type": "code",
      "source": [
        "\n",
        "colour=['red','green','blue','yellow']\n",
        "var1,var2,var3,var4=colour\n",
        "print(var1)\n",
        "print(var2)\n",
        "print(var3)\n",
        "print(var4)"
      ],
      "metadata": {
        "colab": {
          "base_uri": "https://localhost:8080/"
        },
        "id": "0DAA3bICNnR6",
        "outputId": "595f14bc-0e7c-4580-cea3-ff09557e6862"
      },
      "execution_count": null,
      "outputs": [
        {
          "output_type": "stream",
          "name": "stdout",
          "text": [
            "red\n",
            "green\n",
            "blue\n",
            "yellow\n"
          ]
        }
      ]
    },
    {
      "cell_type": "markdown",
      "source": [
        "43.What is tuple? Difference between list and tuple.\n",
        "\n",
        "ans.A tuple is a finite, ordered list of elements that can be used in many fields, including mathematics, computer programming, and databases.The key difference between tuples and lists is that while tuples are immutable objects, lists are mutable."
      ],
      "metadata": {
        "id": "Mes11VgLN6_V"
      }
    },
    {
      "cell_type": "markdown",
      "source": [
        "44. Write a Python program to create a tuple with different data types."
      ],
      "metadata": {
        "id": "H4mvwoZmOTxX"
      }
    },
    {
      "cell_type": "code",
      "source": [
        "\n",
        "tuple=(1, \"Welcome\",3.14,True)\n",
        "print(tuple)"
      ],
      "metadata": {
        "colab": {
          "base_uri": "https://localhost:8080/"
        },
        "id": "f6pbjApFOdS5",
        "outputId": "da7ac4be-8abc-4d52-bbf5-b6e90a65f6d3"
      },
      "execution_count": null,
      "outputs": [
        {
          "output_type": "stream",
          "name": "stdout",
          "text": [
            "(1, 'Welcome', 3.14, True)\n"
          ]
        }
      ]
    },
    {
      "cell_type": "markdown",
      "source": [
        "45.Write a Python program to unzip a list of tuples into individual lists."
      ],
      "metadata": {
        "id": "Ef4W5e-fPMKJ"
      }
    },
    {
      "cell_type": "code",
      "source": [
        "\n",
        "list_of_tuples = [(1, 'a'), (2, 'b'), (3, 'c')]\n",
        "unzipped_lists = list(zip(*list_of_tuples))\n",
        "print(unzipped_lists)"
      ],
      "metadata": {
        "id": "xLsDb_EdPr_P"
      },
      "execution_count": null,
      "outputs": []
    },
    {
      "cell_type": "markdown",
      "source": [
        "46. Write a Python program to convert a list of tuples into a dictionary."
      ],
      "metadata": {
        "id": "NqETqBkJ_Fwl"
      }
    },
    {
      "cell_type": "code",
      "source": [
        "\n",
        "list_of_tuples = [('a', 1), ('b', 2), ('c', 3)]\n",
        "my_dict = dict(list_of_tuples)\n",
        "print(my_dict)\n"
      ],
      "metadata": {
        "colab": {
          "base_uri": "https://localhost:8080/"
        },
        "id": "KOJnXVdK_OKb",
        "outputId": "5632b16a-3bde-4276-a1c3-e1dd3e0014c4"
      },
      "execution_count": null,
      "outputs": [
        {
          "output_type": "stream",
          "name": "stdout",
          "text": [
            "{'a': 1, 'b': 2, 'c': 3}\n"
          ]
        }
      ]
    },
    {
      "cell_type": "markdown",
      "source": [
        "47. How will you create a dictionary using tuples in python?\n",
        "\n",
        "\n",
        "ans.You can use a dictionary assignment statement to assign a value to a key that's a tuple. For example, you can write directory[last, first] = number"
      ],
      "metadata": {
        "id": "UyEIKiF6_d9o"
      }
    },
    {
      "cell_type": "markdown",
      "source": [
        "48. Write a Python script to sort (ascending and descending) a diction"
      ],
      "metadata": {
        "id": "XOU4KWJi_sWr"
      }
    },
    {
      "cell_type": "code",
      "source": [
        "\n",
        "\n",
        "dict={'a':1,'b':2,'c':3,'d':4,'e':5}\n",
        "sorted(dict.items())"
      ],
      "metadata": {
        "colab": {
          "base_uri": "https://localhost:8080/"
        },
        "id": "COT48_RX_yZ-",
        "outputId": "2ce22dc3-d006-4583-f322-9ec06f7c3efe"
      },
      "execution_count": null,
      "outputs": [
        {
          "output_type": "execute_result",
          "data": {
            "text/plain": [
              "[('a', 1), ('b', 2), ('c', 3), ('d', 4), ('e', 5)]"
            ]
          },
          "metadata": {},
          "execution_count": 7
        }
      ]
    },
    {
      "cell_type": "code",
      "source": [
        "dict={'a':1,'b':2,'c':3,'d':4,'e':5}\n",
        "sorted(dict.items(),reverse=True)"
      ],
      "metadata": {
        "colab": {
          "base_uri": "https://localhost:8080/"
        },
        "id": "DRd7d7zRAZTf",
        "outputId": "97b6e37e-a4f1-4482-cd84-4baad30d938a"
      },
      "execution_count": null,
      "outputs": [
        {
          "output_type": "execute_result",
          "data": {
            "text/plain": [
              "[('e', 5), ('d', 4), ('c', 3), ('b', 2), ('a', 1)]"
            ]
          },
          "metadata": {},
          "execution_count": 8
        }
      ]
    },
    {
      "cell_type": "markdown",
      "source": [
        "49. Write a Python script to concatenate following dictionaries to create a new one."
      ],
      "metadata": {
        "id": "U0bUH7VYAg8e"
      }
    },
    {
      "cell_type": "code",
      "source": [
        "\n",
        " dict1={1:10,2:20}\n",
        " dict2={3:30,4:40}\n",
        " dict3={5:50,6:60}\n",
        " dict4={}\n",
        " for d in (dict1,dict2,dict3):\n",
        "    dict4.update(d)\n",
        " print(dict4)"
      ],
      "metadata": {
        "colab": {
          "base_uri": "https://localhost:8080/"
        },
        "id": "7yEzSpdmAmIi",
        "outputId": "95856381-f783-4e79-89e5-96885b0e031e"
      },
      "execution_count": null,
      "outputs": [
        {
          "output_type": "stream",
          "name": "stdout",
          "text": [
            "{1: 10, 2: 20, 3: 30, 4: 40, 5: 50, 6: 60}\n"
          ]
        }
      ]
    },
    {
      "cell_type": "markdown",
      "source": [
        "50. Write a Python script to check if a given key already exists in a dictionary.\n",
        "\n"
      ],
      "metadata": {
        "id": "9YyTl4cGA85P"
      }
    },
    {
      "cell_type": "code",
      "source": [
        "\n",
        "dict={'a':1,'b':2,'c':3,'d':4,'e':5}\n",
        "key=input(\"Enter key to check:\")\n",
        "if key in dict:\n",
        "    print(\"Key is present and value of the key is:\")\n",
        "    print(dict[key])\n",
        "else:\n",
        "    print(\"Key is not present!\")"
      ],
      "metadata": {
        "colab": {
          "base_uri": "https://localhost:8080/"
        },
        "id": "8Hxuwl5GBALq",
        "outputId": "fd2ade52-565d-4f4e-c4d7-ff1ea67cf7d2"
      },
      "execution_count": null,
      "outputs": [
        {
          "output_type": "stream",
          "name": "stdout",
          "text": [
            "Enter key to check:c\n",
            "Key is present and value of the key is:\n",
            "3\n"
          ]
        }
      ]
    },
    {
      "cell_type": "markdown",
      "source": [
        "51. How Do You Traverse Through a Dictionary Object in Python?\n",
        "\n",
        "ans. You can traverse through a dictionary object in Python using a for loop. Here is how"
      ],
      "metadata": {
        "id": "og1SM601BXkj"
      }
    },
    {
      "cell_type": "code",
      "source": [
        "my_dict = {'apple': 1, 'banana': 2, 'cherry': 3}\n",
        "\n",
        "for key in my_dict:\n",
        "  print(key, my_dict[key])"
      ],
      "metadata": {
        "colab": {
          "base_uri": "https://localhost:8080/"
        },
        "id": "Bnj7zJSNByxT",
        "outputId": "ea38b679-f421-4b17-a800-3bff88c4ab69"
      },
      "execution_count": null,
      "outputs": [
        {
          "output_type": "stream",
          "name": "stdout",
          "text": [
            "apple 1\n",
            "banana 2\n",
            "cherry 3\n"
          ]
        }
      ]
    },
    {
      "cell_type": "markdown",
      "source": [
        "52. How Do You Check the Presence of a Key in A Dictionary?\n",
        "\n",
        "ans.To check if a key exists in a Python dictionary, use the get() method.\n"
      ],
      "metadata": {
        "id": "02YvCulsB4lv"
      }
    },
    {
      "cell_type": "markdown",
      "source": [
        "53. Write a Python script to print a dictionary where the keys are numbers between 1 and 15."
      ],
      "metadata": {
        "id": "Ecy_lqFcCL41"
      }
    },
    {
      "cell_type": "code",
      "source": [
        "\n",
        "my_dict = {}\n",
        "for i in range(1, 16):\n",
        "    my_dict[i] = i**2\n",
        "print(my_dict)"
      ],
      "metadata": {
        "colab": {
          "base_uri": "https://localhost:8080/"
        },
        "id": "6lFjLFY2CSIH",
        "outputId": "b721cf23-5a0a-466c-97bc-bd40658306b6"
      },
      "execution_count": null,
      "outputs": [
        {
          "output_type": "stream",
          "name": "stdout",
          "text": [
            "{1: 1, 2: 4, 3: 9, 4: 16, 5: 25, 6: 36, 7: 49, 8: 64, 9: 81, 10: 100, 11: 121, 12: 144, 13: 169, 14: 196, 15: 225}\n"
          ]
        }
      ]
    },
    {
      "cell_type": "markdown",
      "source": [
        "54. Write a Python program to check multiple keys exists in a dictionary."
      ],
      "metadata": {
        "id": "8aEYUC7yCmFp"
      }
    },
    {
      "cell_type": "code",
      "source": [
        "\n",
        "dict={'a':1,'b':2,'c':3,'d':4,'e':5}\n",
        "key1=input(\"Enter key1 to check:\")\n",
        "key2=input(\"Enter key2 to check:\")\n",
        "if key1 in dict and key2 in dict:\n",
        "    print(\"Keys are present and their values are:\")\n",
        "    print(dict[key1])\n",
        "    print(dict[key2])\n",
        "else:\n",
        "    print(\"Keys are not present!\")"
      ],
      "metadata": {
        "colab": {
          "base_uri": "https://localhost:8080/"
        },
        "id": "oog6xyGcCnTu",
        "outputId": "af5686e8-85e4-4bdc-d67a-f97fbd1564e2"
      },
      "execution_count": null,
      "outputs": [
        {
          "output_type": "stream",
          "name": "stdout",
          "text": [
            "Enter key1 to check:a\n",
            "Enter key2 to check:b\n",
            "Keys are present and their values are:\n",
            "1\n",
            "2\n"
          ]
        }
      ]
    },
    {
      "cell_type": "markdown",
      "source": [
        "55. Write a Python script to merge two Python dictionaries."
      ],
      "metadata": {
        "id": "yug5oT9NDLbM"
      }
    },
    {
      "cell_type": "code",
      "source": [
        "\n",
        "dict1={'a':1,'b':2,'c':3,'d':4,'e':5}\n",
        "dict2={'f':6,'g':7,'h':8,'i':9,'j':10}\n",
        "dict1.update(dict2)\n",
        "print(dict1)"
      ],
      "metadata": {
        "colab": {
          "base_uri": "https://localhost:8080/"
        },
        "id": "0H2ave20DOsy",
        "outputId": "7fe62036-927e-4a22-89bd-94d59d451af9"
      },
      "execution_count": null,
      "outputs": [
        {
          "output_type": "stream",
          "name": "stdout",
          "text": [
            "{'a': 1, 'b': 2, 'c': 3, 'd': 4, 'e': 5, 'f': 6, 'g': 7, 'h': 8, 'i': 9, 'j': 10}\n"
          ]
        }
      ]
    },
    {
      "cell_type": "markdown",
      "source": [
        "56. Write a Python program to map two lists into a dictionary Sample output: Counter ({'a': 400, 'b': 400,’d’: 400, 'c': 300}).\n",
        "\n"
      ],
      "metadata": {
        "id": "ysShT0RfDaGP"
      }
    },
    {
      "cell_type": "code",
      "source": [
        "\n",
        "from collections import Counter\n",
        "keys = ['a', 'b', 'c', 'd']\n",
        "values = [400, 400, 300, 400]\n",
        "result = Counter(zip(keys, values))\n",
        "print(result)\n"
      ],
      "metadata": {
        "colab": {
          "base_uri": "https://localhost:8080/"
        },
        "id": "3F-tvlobDf53",
        "outputId": "e7f08100-0f4d-4b3c-f377-05a94031c718"
      },
      "execution_count": null,
      "outputs": [
        {
          "output_type": "stream",
          "name": "stdout",
          "text": [
            "Counter({('a', 400): 1, ('b', 400): 1, ('c', 300): 1, ('d', 400): 1})\n"
          ]
        }
      ]
    },
    {
      "cell_type": "markdown",
      "source": [
        "57. Write a Python program to find the highest 3 values in a dictionary."
      ],
      "metadata": {
        "id": "JEbtUidHDw6Z"
      }
    },
    {
      "cell_type": "code",
      "source": [
        "\n",
        "dict={'a':10,'b':20,'c':80,'d':90,'e':21}\n",
        "sorted(dict.values(),reverse=True)[:3]\n",
        "print(sorted(dict.values(),reverse=True)[:3])"
      ],
      "metadata": {
        "colab": {
          "base_uri": "https://localhost:8080/"
        },
        "id": "QkRqeeIfD1ar",
        "outputId": "f911235e-921d-4d63-bbf5-9f5d9054cea6"
      },
      "execution_count": null,
      "outputs": [
        {
          "output_type": "stream",
          "name": "stdout",
          "text": [
            "[90, 80, 21]\n"
          ]
        }
      ]
    },
    {
      "cell_type": "markdown",
      "source": [
        "58. Write a Python program to combine values in python list of dictionaries. Sample data: [{'item': 'item1', 'amount': 400}, {'item': 'item2', 'amount': 300}, o {'item': 'item1', 'amount': 750}] Expected Output: • Counter ({'item1': 1150, 'item2': 300})"
      ],
      "metadata": {
        "id": "L-CNOoCZETfr"
      }
    },
    {
      "cell_type": "code",
      "source": [
        "\n",
        "from collections import Counter\n",
        "\n",
        "data = [{'item': 'item1', 'amount': 400}, {'item': 'item2', 'amount': 300}, {'item': 'item1', 'amount': 750}]\n",
        "result = Counter()\n",
        "for item in data:\n",
        "    result[item['item']] += item['amount']\n",
        "print(result)"
      ],
      "metadata": {
        "colab": {
          "base_uri": "https://localhost:8080/"
        },
        "id": "1tI3UQHbEdg9",
        "outputId": "dcc5c368-4e3e-4e5e-a5cc-d3961b7a1275"
      },
      "execution_count": null,
      "outputs": [
        {
          "output_type": "stream",
          "name": "stdout",
          "text": [
            "Counter({'item1': 1150, 'item2': 300})\n"
          ]
        }
      ]
    },
    {
      "cell_type": "markdown",
      "source": [
        "59. Write a Python program to create a dictionary from a string. Note: Track the count of the letters from the string.\n",
        "\n"
      ],
      "metadata": {
        "id": "ri5V4Wv7FNOk"
      }
    },
    {
      "cell_type": "code",
      "source": [
        "\n",
        "from collections import Counter\n",
        "\n",
        "string = 'hello world'\n",
        "result = Counter(string)\n",
        "print(result)"
      ],
      "metadata": {
        "colab": {
          "base_uri": "https://localhost:8080/"
        },
        "id": "AYbB6q4aFSd9",
        "outputId": "2502cfcb-e836-48dc-deb1-925892f095a8"
      },
      "execution_count": null,
      "outputs": [
        {
          "output_type": "stream",
          "name": "stdout",
          "text": [
            "Counter({'l': 3, 'o': 2, 'h': 1, 'e': 1, ' ': 1, 'w': 1, 'r': 1, 'd': 1})\n"
          ]
        }
      ]
    },
    {
      "cell_type": "markdown",
      "source": [
        "60. Sample string: 'w3resource' Expected output: • {'3': 1,’s’: 1, 'r': 2, 'u': 1, 'w': 1, 'c': 1, 'e': 2, 'o': 1}"
      ],
      "metadata": {
        "id": "k5p7mn4eFwKZ"
      }
    },
    {
      "cell_type": "code",
      "source": [
        "\n",
        "from collections import Counter\n",
        "\n",
        "string = 'w3resource'\n",
        "result = Counter(string)\n",
        "print(result)"
      ],
      "metadata": {
        "colab": {
          "base_uri": "https://localhost:8080/"
        },
        "id": "CLE3jhM0F5cd",
        "outputId": "e14eac33-4e44-4d7a-9bd3-af7c5beeec4a"
      },
      "execution_count": null,
      "outputs": [
        {
          "output_type": "stream",
          "name": "stdout",
          "text": [
            "Counter({'r': 2, 'e': 2, 'w': 1, '3': 1, 's': 1, 'o': 1, 'u': 1, 'c': 1})\n"
          ]
        }
      ]
    },
    {
      "cell_type": "markdown",
      "source": [
        "61. Write a Python function to calculate the factorial of a number (a nonnegative integer)"
      ],
      "metadata": {
        "id": "MlyCbhgdGxga"
      }
    },
    {
      "cell_type": "code",
      "source": [
        "num = int(input(\"Enter a number: \"))\n",
        "fact = 1\n",
        "i = 1\n",
        "while i <= num:\n",
        "    fact = fact * i\n",
        "    i = i + 1\n",
        "print(\"Factorial of\", num, \"is\", fact)"
      ],
      "metadata": {
        "colab": {
          "base_uri": "https://localhost:8080/"
        },
        "id": "EdqlKkDiGyDR",
        "outputId": "d8fe0dd9-b26e-4298-f2a4-e0fb053d9d3d"
      },
      "execution_count": null,
      "outputs": [
        {
          "output_type": "stream",
          "name": "stdout",
          "text": [
            "Enter a number: 6\n",
            "Factorial of 6 is 720\n"
          ]
        }
      ]
    },
    {
      "cell_type": "markdown",
      "source": [
        "62. Write a Python function to check whether a number is in a given range."
      ],
      "metadata": {
        "id": "eibOXof5G_aw"
      }
    },
    {
      "cell_type": "code",
      "source": [
        "def is_in_range(num, start, end):\n",
        "    if start <= num <= end:\n",
        "        return True\n",
        "    else:\n",
        "        return False\n",
        "\n",
        "print(is_in_range(5, 1, 10))\n",
        "print(is_in_range(15, 1, 10))"
      ],
      "metadata": {
        "colab": {
          "base_uri": "https://localhost:8080/"
        },
        "id": "3jMZhl4iHjKi",
        "outputId": "48f36339-b8ab-4c1e-d1ee-6b6d476fc4df"
      },
      "execution_count": null,
      "outputs": [
        {
          "output_type": "stream",
          "name": "stdout",
          "text": [
            "True\n",
            "False\n"
          ]
        }
      ]
    },
    {
      "cell_type": "markdown",
      "source": [
        "63. Write a Python function to check whether a number is perfect or not."
      ],
      "metadata": {
        "id": "lRv_LixIHyYt"
      }
    },
    {
      "cell_type": "code",
      "source": [
        "def perfect_number(num):\n",
        "  if num <= 1:\n",
        "    return False\n",
        "  sum = 1\n",
        "  for i in range(2, int(num**0.5) + 1):\n",
        "    if num % i == 0:\n",
        "      if i == num // i:\n",
        "        sum += i\n",
        "      else:\n",
        "        sum += i + num // i\n",
        "  return sum\n",
        "\n",
        "number = int(input(\"Enter a number: \"))\n",
        "if perfect_number(number):\n",
        "  print(f\"{number} is a perfect number.\")\n",
        "else:\n",
        "  print(f\"{number} is not a perfect number.\")"
      ],
      "metadata": {
        "colab": {
          "base_uri": "https://localhost:8080/"
        },
        "id": "o_nkHQv7H3D6",
        "outputId": "b84765d8-5cfb-4c8d-d98f-598acaba9580"
      },
      "execution_count": null,
      "outputs": [
        {
          "output_type": "stream",
          "name": "stdout",
          "text": [
            "Enter a number: 12\n",
            "12 is a perfect number.\n"
          ]
        }
      ]
    },
    {
      "cell_type": "markdown",
      "source": [
        "64. Write a Python function that checks whether a passed string is palindrome or not.\n",
        "\n",
        "\n"
      ],
      "metadata": {
        "id": "5YnUQEOZI7mw"
      }
    },
    {
      "cell_type": "code",
      "source": [
        "def is_palindrome(string):\n",
        "  if string == string[::-1]:\n",
        "    return True\n",
        "  else:\n",
        "    return False\n",
        "\n",
        "print(is_palindrome(\"madam\"))\n",
        "print(is_palindrome(\"12321\"))"
      ],
      "metadata": {
        "colab": {
          "base_uri": "https://localhost:8080/"
        },
        "id": "mSUUz2HyJENT",
        "outputId": "8515194a-e5eb-438c-83bc-e2c5db154e8d"
      },
      "execution_count": null,
      "outputs": [
        {
          "output_type": "stream",
          "name": "stdout",
          "text": [
            "True\n",
            "True\n"
          ]
        }
      ]
    },
    {
      "cell_type": "markdown",
      "source": [
        "65. How Many Basic Types of Functions Are Available in Python?\n",
        "\n",
        "ans.There are two basic types of functions in Python:\n",
        "\n",
        "Built-in functions: These are pre-defined functions that are part of the Python language.\n",
        "\n",
        "User-defined functions: These are functions that you create yourself."
      ],
      "metadata": {
        "id": "lJ4XFK77JPqY"
      }
    },
    {
      "cell_type": "markdown",
      "source": [
        "66. How can you pick a random item from a list or tuple?\n",
        "\n",
        "ans.You can pick a random item from a list or tuple in Python using the random.choice() function from the random module. Here's how you can do it:"
      ],
      "metadata": {
        "id": "LALt0Rx9JoPR"
      }
    },
    {
      "cell_type": "code",
      "source": [
        "# Example with a List:\n",
        "\n",
        "import random\n",
        "\n",
        "my_list = [1, 2, 3, 4, 5]\n",
        "random_item = random.choice(my_list)\n",
        "print(random_item)\n"
      ],
      "metadata": {
        "colab": {
          "base_uri": "https://localhost:8080/"
        },
        "id": "5Kg9bSkDJ-1W",
        "outputId": "e28f7078-d510-4d07-8c66-f14abf04fd34"
      },
      "execution_count": null,
      "outputs": [
        {
          "output_type": "stream",
          "name": "stdout",
          "text": [
            "5\n"
          ]
        }
      ]
    },
    {
      "cell_type": "code",
      "source": [
        "# Example with a Tuple:\n",
        "\n",
        "import random\n",
        "\n",
        "my_tuple = (10, 20, 30, 40, 50)\n",
        "random_item = random.choice(my_tuple)\n",
        "print(random_item)"
      ],
      "metadata": {
        "colab": {
          "base_uri": "https://localhost:8080/"
        },
        "id": "CnfS-em7KEa3",
        "outputId": "09992991-3e8e-4271-ebc1-2d93b2524f54"
      },
      "execution_count": null,
      "outputs": [
        {
          "output_type": "stream",
          "name": "stdout",
          "text": [
            "10\n"
          ]
        }
      ]
    },
    {
      "cell_type": "markdown",
      "source": [
        "67. How can you pick a random item from a range?\n",
        "\n",
        "ans.You can pick a random item from a range using the random.randrange() function."
      ],
      "metadata": {
        "id": "ZSlFoTh6KNO7"
      }
    },
    {
      "cell_type": "code",
      "source": [
        "import random\n",
        "\n",
        "random_number = random.choice(range(1, 11))\n",
        "print(random_number)"
      ],
      "metadata": {
        "colab": {
          "base_uri": "https://localhost:8080/"
        },
        "id": "WnGl8f5MLe8Q",
        "outputId": "fd7b3e82-de72-4f43-9caa-653fae849bd0"
      },
      "execution_count": null,
      "outputs": [
        {
          "output_type": "stream",
          "name": "stdout",
          "text": [
            "9\n"
          ]
        }
      ]
    },
    {
      "cell_type": "markdown",
      "source": [
        "68. How can you get a random number in python?\n",
        "\n",
        "ans.You can get a random number in Python using the random.random() function."
      ],
      "metadata": {
        "id": "MSu-vRRxKM04"
      }
    },
    {
      "cell_type": "code",
      "source": [
        "import random\n",
        "\n",
        "random_number = random.random()\n",
        "print(random_number)"
      ],
      "metadata": {
        "colab": {
          "base_uri": "https://localhost:8080/"
        },
        "id": "71oJcV9FLfk3",
        "outputId": "03bab7b4-7869-4412-a379-25c3491ebf87"
      },
      "execution_count": null,
      "outputs": [
        {
          "output_type": "stream",
          "name": "stdout",
          "text": [
            "0.9667043459515422\n"
          ]
        }
      ]
    },
    {
      "cell_type": "markdown",
      "source": [
        "69. How will you set the starting value in generating random numbers?\n",
        "\n",
        "ans.You can set the starting value in generating random numbers using the random.seed() function."
      ],
      "metadata": {
        "id": "9d_62z6jK2U0"
      }
    },
    {
      "cell_type": "code",
      "source": [
        "import random\n",
        "\n",
        "random.seed(77)\n",
        "random_number = random.random()\n",
        "print(random_number)"
      ],
      "metadata": {
        "colab": {
          "base_uri": "https://localhost:8080/"
        },
        "id": "YA7dAC44Lgyv",
        "outputId": "3e42911e-1433-4698-f223-26f8fce154ab"
      },
      "execution_count": null,
      "outputs": [
        {
          "output_type": "stream",
          "name": "stdout",
          "text": [
            "0.799115369116727\n"
          ]
        }
      ]
    },
    {
      "cell_type": "markdown",
      "source": [
        "70. How will you randomize the items of a list in place?\n",
        "\n",
        "ans.To randomize or shuffle the items of a list in place in Python, you can use the random.shuffle() function from the random module."
      ],
      "metadata": {
        "id": "oo8luIGfLH2K"
      }
    },
    {
      "cell_type": "code",
      "source": [
        "import random\n",
        "\n",
        "mylist = [11, 22, 33, 44, 55]\n",
        "random.shuffle(mylist)\n",
        "print(mylist)"
      ],
      "metadata": {
        "colab": {
          "base_uri": "https://localhost:8080/"
        },
        "id": "EklovhozLhku",
        "outputId": "24a94fef-24a7-4bf7-8888-3d6ccc80cab8"
      },
      "execution_count": null,
      "outputs": [
        {
          "output_type": "stream",
          "name": "stdout",
          "text": [
            "[44, 55, 11, 22, 33]\n"
          ]
        }
      ]
    },
    {
      "cell_type": "markdown",
      "source": [],
      "metadata": {
        "id": "EpBmEH_6LbqF"
      }
    }
  ]
}